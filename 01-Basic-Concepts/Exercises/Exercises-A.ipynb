{
 "cells": [
  {
   "attachments": {},
   "cell_type": "markdown",
   "metadata": {},
   "source": [
    "### Ejercicio 1A\n",
    "\n",
    "Escribe una función para calcular el consumo medio de combustible de un vehículo.\n",
    "\n",
    "Entrada de datos: \n",
    "* Kilometros recorridos\n",
    "* Listros de combustible consumidos\n",
    "\n",
    "Salida de datos:\n",
    "* litros consumidos por kilimetro"
   ]
  },
  {
   "cell_type": "code",
   "execution_count": 10,
   "metadata": {},
   "outputs": [
    {
     "name": "stdout",
     "output_type": "stream",
     "text": [
      "Fuel_consuption is: 6.5 L/100km.\n",
      "Exiting...\n"
     ]
    }
   ],
   "source": [
    "import traceback, re\n",
    "\n",
    "\n",
    "def get_condition(condition, reference):\n",
    "\n",
    "    conditions = {\n",
    "        'eq': { # Equal\n",
    "            'func': lambda value: value == reference,\n",
    "            'msg': f\"equals {reference}\"\n",
    "        },\n",
    "        'ne': { # Not equal\n",
    "            'func': lambda value: value != reference,\n",
    "            'msg': f\"not equals {reference}\"\n",
    "        },\n",
    "        'lt': { # Less than\n",
    "            'func': lambda value: value < reference,\n",
    "            'msg': f\"less than {reference}\"\n",
    "        },\n",
    "        'le': { # Less than or equal\n",
    "            'func': lambda value: value <= reference,\n",
    "            'msg': f\"less than or equal to {reference}\"\n",
    "        },\n",
    "        'gt': { # Greater than\n",
    "            'func': lambda value: value > reference,\n",
    "            'msg': f\"greater than {reference}\"\n",
    "        },\n",
    "        'ge': { # Greater than or equal\n",
    "            'func': lambda value: value >= reference,\n",
    "            'msg': f\"greater than or equal to {reference}\"\n",
    "        }\n",
    "    }\n",
    "\n",
    "    return conditions[condition]\n",
    "\n",
    "\n",
    "class QuitException(Exception):\n",
    "    pass\n",
    "\n",
    "    \n",
    "def get_input(prompt):\n",
    "    value = input(prompt + \" (or press 'Q' to exit): \")\n",
    "    # re.match() throws an exception if value is None -> TypeError\n",
    "    return None if re.match('Q', value, re.IGNORECASE) else value\n",
    "\n",
    "\n",
    "def get_numeric_value(unit, conditions = [], is_decimal = False):\n",
    "    value = None\n",
    "\n",
    "    while True:\n",
    "        try:\n",
    "            str_value = get_input(f\"Insert the number of {unit}\")\n",
    "            if str_value is None:\n",
    "                raise QuitException\n",
    "            value = float(str_value) if is_decimal else int(str_value)\n",
    "            for condition in conditions:\n",
    "                if not condition['func'](value):\n",
    "                    raise ValueError\n",
    "        except (ValueError, TypeError):\n",
    "            print(f\"{unit} must be {'a float' if is_decimal else 'an integer'} meeting the following requirements: {[condition['msg'] for condition in conditions]}\")\n",
    "        else:\n",
    "            break\n",
    "\n",
    "    return value\n",
    "\n",
    "\n",
    "def get_km():\n",
    "    metric = 'kilometers'\n",
    "    conditions = [get_condition('gt', 0)]\n",
    "    \n",
    "    return get_numeric_value(metric, conditions, True)\n",
    "\n",
    "\n",
    "def get_liters():\n",
    "    metric = 'liters'\n",
    "    conditions = [get_condition('gt', 0)]\n",
    "\n",
    "    return get_numeric_value(metric, conditions, True)\n",
    "\n",
    "\n",
    "def get_fuel_consuption(liters, kilometers, km_ref = 100):\n",
    "    return liters / (kilometers / km_ref)\n",
    "\n",
    "\n",
    "def calculate_fuel_consuption():\n",
    "    while True:\n",
    "\n",
    "        kilometers = liters = None\n",
    "\n",
    "        try:\n",
    "            kilometers = get_km()\n",
    "            liters = get_liters()\n",
    "\n",
    "            fuel_consuption = get_fuel_consuption(liters, kilometers)\n",
    "\n",
    "            print(f\"Fuel consuption is: {fuel_consuption:.1f} L/100km.\")\n",
    "\n",
    "        except QuitException:\n",
    "            break\n",
    "\n",
    "        # except KeyError as e:\n",
    "            # print(e)\n",
    "        \n",
    "        # except ZeroDivisionError:\n",
    "            # print(\"Traveled distance cannot be zero. Please, try again.\")\n",
    "        \n",
    "        except Exception as e:\n",
    "            print(\"Some fatal error happened. Here is the error and the traceback:\")\n",
    "            print(e)\n",
    "            traceback.print_exc()\n",
    "            exit(1)\n",
    "\n",
    "        else:\n",
    "            break\n",
    "\n",
    "\n",
    "def main():\n",
    "    calculate_fuel_consuption()\n",
    "    print(\"Exiting...\")\n",
    "\n",
    "\n",
    "if __name__ == \"__main__\":\n",
    "    main()"
   ]
  },
  {
   "attachments": {},
   "cell_type": "markdown",
   "metadata": {},
   "source": [
    "### Ejercicio 2A\n",
    "\n",
    "Escribir funciones para tranformar grados Celsius en Fahrenheit y viciversa.\n",
    "\n",
    "Formulas:   Celsius = (5 ÷ 9) x (Fahrenheit - 32)\n",
    "            Fahrenheit = (Celsius x (9 ÷ 5)) + 32\n",
    "\n",
    "Entrada de datos:\n",
    "* Grados Celsius/Fahrenheit\n",
    "\n",
    "Salida de datos:\n",
    "* Grados transformados"
   ]
  },
  {
   "cell_type": "code",
   "execution_count": null,
   "metadata": {},
   "outputs": [],
   "source": [
    "# Ejercicio 2A"
   ]
  },
  {
   "attachments": {},
   "cell_type": "markdown",
   "metadata": {},
   "source": [
    "### Ejercicio 3A\n",
    "\n",
    "Escribe una función que calcule los impuesto a pagar depediendo el salario.\n",
    "\n",
    "Tabla:      Menos de 10.000              5%\n",
    "            Entre 10.000 y 20.000       15%\n",
    "            Entre 20.000 y 35.000       20%\n",
    "            Entre 35.000 y 60.000       30%\n",
    "            Más de 60.000               45%\n",
    "\n",
    "            En concepto de desempleo     4%\n",
    "            En concepto de formación   1,2%\n",
    "\n",
    "\n",
    "Entrada de datos:\n",
    "* Salario\n",
    "\n",
    "Salida de datos:\n",
    "* Datos desglosados"
   ]
  },
  {
   "cell_type": "code",
   "execution_count": null,
   "metadata": {},
   "outputs": [],
   "source": [
    "# Ejercicio 3A"
   ]
  },
  {
   "attachments": {},
   "cell_type": "markdown",
   "metadata": {},
   "source": [
    "### Ejercicio 4A\n",
    "\n",
    "Escribe una función que cuente las vocales de una frase.\n",
    "\n",
    "Entrada de datos:\n",
    "* Una frase\n",
    "\n",
    "Salida de datos:\n",
    "* Número de vocales desglosado"
   ]
  },
  {
   "cell_type": "code",
   "execution_count": null,
   "metadata": {},
   "outputs": [],
   "source": [
    "# Ejercicio 4A"
   ]
  },
  {
   "attachments": {},
   "cell_type": "markdown",
   "metadata": {},
   "source": [
    "### Ejercicio 5A\n",
    "\n",
    "Escribe un programa que genere un número aleatorio. El usuario escribe números y el programa le responde si acertado y no acertado. Al no acertar debe indicarle si el número es menor o mayar.\n",
    "\n",
    "Entrada de datos:\n",
    "* Número\n",
    "\n",
    "Salida de datos:\n",
    "* Mensajes: has acertado; no has acertado, es menor; no has acertado es mayor"
   ]
  },
  {
   "cell_type": "code",
   "execution_count": null,
   "metadata": {},
   "outputs": [],
   "source": [
    "# EJERCICIO 5A\n",
    "import random\n",
    "\n",
    "numero1 = random.randint(1, 20)\n",
    "\n"
   ]
  },
  {
   "attachments": {},
   "cell_type": "markdown",
   "metadata": {},
   "source": [
    "### Ejercicio 6A\n",
    "\n",
    "Escribe una función que calcule el precio de una pizza.\n",
    "\n",
    "Entrada de datos:\n",
    "* Ingredientes + Cantidad del ingrediente (almacenar en listas)\n",
    "* FIN, la cofección de la pizza a finalizado\n",
    "\n",
    "Salida de datos:\n",
    "* Coste de las pizza desglosado"
   ]
  },
  {
   "cell_type": "code",
   "execution_count": null,
   "metadata": {},
   "outputs": [],
   "source": [
    "# Ejercicio 6A\n",
    "\n",
    "ingredientes = { \"Base\": 8.90, \"Pepperoni\": 0.50, \"Pollo\": 0.35, \"Carne\": 0.35, \"Pimiento\": 0.25, \"Cebolla\": 0.25, \"Champiñon\": 0.25, \"Aceituna\": 0.50, \"Piña\": 0.35, \"ExtraQueso\": 1 }\n"
   ]
  },
  {
   "attachments": {},
   "cell_type": "markdown",
   "metadata": {},
   "source": [
    "### Ejercicio 7A\n",
    "\n",
    "Escribe una función que calcule el interés de una inversion.\n",
    "\n",
    "\n",
    "Entrada de datos:\n",
    "* Importe total\n",
    "* Interés anual\n",
    "\n",
    "Salida de datos:\n",
    "* Importe invertido + beneficios a un día, un mes, un trimestre, un semestre y un año"
   ]
  },
  {
   "cell_type": "code",
   "execution_count": null,
   "metadata": {},
   "outputs": [],
   "source": [
    "# Ejercicio 7A\n"
   ]
  },
  {
   "attachments": {},
   "cell_type": "markdown",
   "metadata": {},
   "source": [
    "### Ejercicio 8A\n",
    "\n",
    "Escribe una función que indique los aciertos de una combinación de loteria primitiva.\n",
    "Una vez introducidos los datos se genera la combinación ganadora utilizando siguiente código:\n",
    "\n",
    "    import random\n",
    "    n = random.randint(1, 49)\n",
    "\n",
    "La combinación ganadora se compone de 6 números no iguales.\n",
    "\n",
    "Entrada de datos:\n",
    "* Introduce 6 número distintos entre 1 y 49\n",
    "\n",
    "Salida de datos:\n",
    "* Número de aciertos"
   ]
  },
  {
   "cell_type": "code",
   "execution_count": null,
   "metadata": {},
   "outputs": [],
   "source": [
    "# EJERCICIO 8A"
   ]
  },
  {
   "attachments": {},
   "cell_type": "markdown",
   "metadata": {},
   "source": [
    "### Ejercicio 9A\n",
    "\n",
    "Escribe un programa que muestre el nombre del día de la semana del cumpleaños del usuario desde su nacimiento hasta hoy.\n",
    "\n",
    "Entrada de datos:\n",
    "* Fecha de nacimiento\n",
    "\n",
    "Salida de datos:\n",
    "* Nombre del día de la semana de cada año"
   ]
  },
  {
   "cell_type": "code",
   "execution_count": null,
   "metadata": {},
   "outputs": [],
   "source": [
    "# EJERCICIO 9A"
   ]
  },
  {
   "attachments": {},
   "cell_type": "markdown",
   "metadata": {},
   "source": [
    "### Ejercicio 10A\n",
    "\n",
    "Escribe una función que pinte por pantalla un triangulo, cuadrado o circulo. Utiliza como máximo 10 sentencias print.\n",
    "\n",
    "Entrada de datos:\n",
    "* tipo de figura\n",
    "\n",
    "Salida de datos:\n",
    "* figura impresa"
   ]
  },
  {
   "cell_type": "code",
   "execution_count": null,
   "metadata": {},
   "outputs": [],
   "source": [
    "# EJERCICIO 10A"
   ]
  }
 ],
 "metadata": {
  "kernelspec": {
   "display_name": ".venv",
   "language": "python",
   "name": "python3"
  },
  "language_info": {
   "codemirror_mode": {
    "name": "ipython",
    "version": 3
   },
   "file_extension": ".py",
   "mimetype": "text/x-python",
   "name": "python",
   "nbconvert_exporter": "python",
   "pygments_lexer": "ipython3",
   "version": "3.10.10"
  },
  "orig_nbformat": 4
 },
 "nbformat": 4,
 "nbformat_minor": 2
}
