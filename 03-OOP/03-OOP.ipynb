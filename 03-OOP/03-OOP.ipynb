{
 "cells": [
  {
   "attachments": {},
   "cell_type": "markdown",
   "metadata": {},
   "source": [
    "## 03. Object-oriented programming"
   ]
  },
  {
   "attachments": {},
   "cell_type": "markdown",
   "metadata": {},
   "source": [
    "### 03.01. Functions"
   ]
  },
  {
   "cell_type": "code",
   "execution_count": 2,
   "metadata": {},
   "outputs": [
    {
     "name": "stdout",
     "output_type": "stream",
     "text": [
      "Hello everyone!\n",
      "Hi, I'm Manuel and my lucky number is 61.\n",
      "14\n",
      "Data: 14\n",
      "Monday\n",
      "Data: Monday\n"
     ]
    }
   ],
   "source": [
    "from datetime import datetime\n",
    "\n",
    "# Example of a function that does have no parameters (does not receive data) and does not return any data\n",
    "def func_1():\n",
    "    print(\"Hello everyone!\")\n",
    "\n",
    "\n",
    "# Example of a function that does have parameters (does receive data) and does not return any data\n",
    "def func_2(name, number):\n",
    "    print(f\"Hi, I'm {name} and my lucky number is {number}.\")\n",
    "\n",
    "\n",
    "# Example of a function that does have parameters (does receive data) and does return data\n",
    "def func_3(phrase):\n",
    "    length = 0\n",
    "    length = len(phrase)\n",
    "    return length\n",
    "\n",
    "\n",
    "# Example of a function that does have no parameters (does not receive data) and does return data\n",
    "def func_4():\n",
    "    return datetime.now().date().strftime(\"%A\")\n",
    "\n",
    "\n",
    "func_1()\n",
    "\n",
    "func_2(\"Manuel\", 61)\n",
    "\n",
    "print(func_3(\"Hello everyone\"))\n",
    "\n",
    "data = func_3(\"Hello everyone\")\n",
    "print(f\"Data: {data}\")\n",
    "\n",
    "print(func_4())\n",
    "\n",
    "data_2 = func_4()\n",
    "print(f\"Data: {data_2}\")"
   ]
  },
  {
   "attachments": {},
   "cell_type": "markdown",
   "metadata": {},
   "source": [
    "### 03.02. Lambda functions"
   ]
  },
  {
   "cell_type": "code",
   "execution_count": 3,
   "metadata": {},
   "outputs": [
    {
     "name": "stdout",
     "output_type": "stream",
     "text": [
      "Welcome, Manuel!\n",
      "Hello, I'm Python!\n",
      "Value: 32\n",
      "Result: 57\n",
      "Value: 32\n",
      "Result: 7\n",
      "Value: 32\n",
      "Result: 800\n",
      "Value: 32\n",
      "Result: 1.28\n",
      "Value: 32\n",
      "Result: 2.6666666666666665\n",
      "Values: (32, 35)\n",
      "Result: 93.33333333333333\n",
      "Values: (32, 35)\n",
      "Result: 93.33333333333333\n",
      "Value 1 - Result: 0.5\n",
      "Value 2 - Result: 1.0\n",
      "Value 3 - Result: 1.5\n",
      "Value 4 - Result: 2.0\n",
      "Value 5 - Result: 2.5\n",
      "Value 6 - Result: 3.0\n",
      "Value 7 - Result: 3.5\n",
      "Value 8 - Result: 4.0\n",
      "Value 9 - Result: 4.5\n",
      "Value 10 - Result: 5.0\n",
      "Value 1 - Result: 0\n",
      "Value 2 - Result: 1\n",
      "Value 3 - Result: 2\n",
      "Value 4 - Result: 3\n",
      "Value 5 - Result: 4\n",
      "Value 6 - Result: 5\n",
      "Value 7 - Result: 6\n",
      "Value 8 - Result: 7\n",
      "Value 9 - Result: 8\n",
      "Value 10 - Result: 9\n"
     ]
    }
   ],
   "source": [
    "def welcome(name: str = \"Unknown\") -> None:\n",
    "    print(f\"Welcome, {name}!\")\n",
    "\n",
    "my_name = 'Manuel'    \n",
    "welcome(my_name)\n",
    "\n",
    "\n",
    "demo = lambda name: print(f\"Hello, I'm {name}!\")\n",
    "demo('Python')\n",
    "\n",
    "\n",
    "\n",
    "def aggregate(num):\n",
    "    return lambda a: a + num\n",
    "\n",
    "def substrate(num):\n",
    "    return lambda a: a - num\n",
    "\n",
    "def multiply(num):\n",
    "    return lambda a: a * num\n",
    "\n",
    "def divide(num):\n",
    "    return lambda a: a / num\n",
    "\n",
    "def calculate(formula, value):\n",
    "    print(f\"Value: {value}\")\n",
    "    print(f\"Result: {formula(value)}\")\n",
    "\n",
    "calculate(aggregate(25), 32)\n",
    "calculate(substrate(25), 32)\n",
    "calculate(multiply(25), 32)\n",
    "calculate(divide(25), 32)\n",
    "\n",
    "formula = lambda a: a / 12\n",
    "\n",
    "calculate(formula, 32)\n",
    "\n",
    "#######################################\n",
    "def calculate(formula, *args):\n",
    "    print(f\"Values: {args}\")\n",
    "    print(f\"Result: {formula(*args)}\")\n",
    "\n",
    "formula = lambda a, b: (a / 12) * b\n",
    "\n",
    "calculate(formula, 32, 35)\n",
    "calculate(formula, 32, 35)\n",
    "# calculate(formula, 32)  # throws exception due to missing arg(s)\n",
    "# calculate(formula, 32, 35, 38)  # throws exception due to too many args\n",
    "#######################################\n",
    "\n",
    "def calculate(formula):\n",
    "    for n in range(1, 11, 1):\n",
    "        print(f\"Value {n} - Result: {formula(n)}\")\n",
    "\n",
    "calculate(divide(2))\n",
    "calculate(lambda x: x - 1)"
   ]
  }
 ],
 "metadata": {
  "kernelspec": {
   "display_name": ".venv",
   "language": "python",
   "name": "python3"
  },
  "language_info": {
   "codemirror_mode": {
    "name": "ipython",
    "version": 3
   },
   "file_extension": ".py",
   "mimetype": "text/x-python",
   "name": "python",
   "nbconvert_exporter": "python",
   "pygments_lexer": "ipython3",
   "version": "3.10.10"
  },
  "orig_nbformat": 4
 },
 "nbformat": 4,
 "nbformat_minor": 2
}
